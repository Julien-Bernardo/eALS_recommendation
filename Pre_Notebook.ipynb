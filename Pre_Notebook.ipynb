{
 "cells": [
  {
   "cell_type": "code",
   "execution_count": 1,
   "metadata": {},
   "outputs": [],
   "source": [
    "import pandas as pd\n",
    "import random\n",
    "import numpy as np\n",
    "\n",
    "import scipy.sparse as sparse\n",
    "from scipy.sparse.linalg import spsolve\n",
    "from sklearn.preprocessing import MinMaxScaler\n",
    "\n",
    "from utils import tools, data_preprocessing\n",
    "from MF_algorithms import eALS"
   ]
  },
  {
   "cell_type": "code",
   "execution_count": 2,
   "metadata": {},
   "outputs": [
    {
     "data": {
      "text/plain": [
       "'/usr/local/opt/apache-spark/libexec'"
      ]
     },
     "execution_count": 2,
     "metadata": {},
     "output_type": "execute_result"
    }
   ],
   "source": [
    "import findspark\n",
    "findspark.init()\n",
    "findspark.find()\n",
    "import pyspark\n",
    "findspark.find()"
   ]
  },
  {
   "cell_type": "code",
   "execution_count": 3,
   "metadata": {},
   "outputs": [],
   "source": [
    "from pyspark import SparkContext, SparkConf\n",
    "from pyspark.sql import SparkSession\n",
    "\n",
    "conf = pyspark.SparkConf().set('spark.driver.host','127.0.0.1')\n",
    "sc = pyspark.SparkContext(master='local', appName='myAppName',conf=conf)\n",
    "spark = SparkSession(sc)"
   ]
  },
  {
   "cell_type": "code",
   "execution_count": 4,
   "metadata": {},
   "outputs": [
    {
     "name": "stdout",
     "output_type": "stream",
     "text": [
      "+------+-------+-------+\n",
      "|rating|user_id|item_id|\n",
      "+------+-------+-------+\n",
      "|   4.0|      0|      0|\n",
      "|   4.0|      0|      1|\n",
      "|   4.0|      0|      2|\n",
      "|   2.0|      0|      3|\n",
      "|   3.0|      0|      4|\n",
      "|   2.0|      0|      5|\n",
      "|   4.0|      0|      6|\n",
      "|   4.0|      0|      7|\n",
      "|   3.0|      0|      8|\n",
      "|   4.0|      0|      9|\n",
      "|   3.0|      0|     10|\n",
      "|   4.0|      0|     11|\n",
      "|   2.0|      0|     12|\n",
      "|   2.0|      0|     13|\n",
      "|   5.0|      0|     14|\n",
      "|   4.0|      0|     15|\n",
      "|   4.0|      0|     16|\n",
      "|   2.0|      0|     17|\n",
      "|   3.0|      0|     18|\n",
      "|   2.0|      0|     19|\n",
      "+------+-------+-------+\n",
      "only showing top 20 rows\n",
      "\n"
     ]
    }
   ],
   "source": [
    "# Data preprocessing\n",
    "data_path = \"data/data_yelp.csv\"\n",
    "data = data_preprocessing(\"data/yelp_rating.txt\", data_path)\n",
    "\n",
    "# Creating RDD\n",
    "rating_df = spark.read.format(\"csv\")\\\n",
    "    .option(\"header\", \"true\")\\\n",
    "    .option(\"inferSchema\", \"true\")\\\n",
    "    .option(\"delimiter\", \",\")\\\n",
    "    .load(data_path)\n",
    "    \n",
    "rating_rdd = rating_df.rdd\n",
    "rating_list = rating_rdd.collect()\n",
    "rating_df.show()\n",
    "\n",
    "# Building Rating matrix\n",
    "tools = tools(rating_list, data_path)\n",
    "R = tools.set_data_matrix()"
   ]
  },
  {
   "cell_type": "code",
   "execution_count": 5,
   "metadata": {},
   "outputs": [
    {
     "name": "stdout",
     "output_type": "stream",
     "text": [
      "Iteration: 1 Loss: 8589.820411207815\n",
      "Iteration: 6 Loss: 1235.1393791023465\n",
      "Iteration: 11 Loss: 842.7330110936747\n",
      "Iteration: 16 Loss: 653.7169362825622\n",
      "Iteration: 21 Loss: 539.9239614754521\n",
      "Iteration: 26 Loss: 462.5856323224889\n",
      "Iteration: 31 Loss: 405.5263087262868\n",
      "Iteration: 36 Loss: 361.182980401021\n",
      "Iteration: 41 Loss: 325.51336226055884\n",
      "Iteration: 46 Loss: 296.1056192215371\n",
      "Iteration: 51 Loss: 271.38479738051495\n"
     ]
    }
   ],
   "source": [
    "# Training MF eALS and transforming U and V to minimize loss\n",
    "MF = eALS(R)\n",
    "max_iterations = 51\n",
    "U, V = MF.fit(max_iterations, sc)"
   ]
  },
  {
   "cell_type": "code",
   "execution_count": 10,
   "metadata": {},
   "outputs": [
    {
     "name": "stdout",
     "output_type": "stream",
     "text": [
      "RMSE of predicted R and the true R of 0.00815\n"
     ]
    }
   ],
   "source": [
    "# RMSE between predicted ratings R_hat and true ratings R\n",
    "RMSE = tools.rmse(U, V)\n",
    "print(\"RMSE of predicted R and the true R of %.5f\" % RMSE)"
   ]
  },
  {
   "cell_type": "markdown",
   "metadata": {},
   "source": []
  },
  {
   "cell_type": "code",
   "execution_count": null,
   "metadata": {},
   "outputs": [],
   "source": []
  }
 ],
 "metadata": {
  "kernelspec": {
   "display_name": "Python 3",
   "language": "python",
   "name": "python3"
  },
  "language_info": {
   "codemirror_mode": {
    "name": "ipython",
    "version": 3
   },
   "file_extension": ".py",
   "mimetype": "text/x-python",
   "name": "python",
   "nbconvert_exporter": "python",
   "pygments_lexer": "ipython3",
   "version": "3.7.7"
  }
 },
 "nbformat": 4,
 "nbformat_minor": 4
}
